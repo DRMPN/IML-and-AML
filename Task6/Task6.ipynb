{
  "nbformat": 4,
  "nbformat_minor": 0,
  "metadata": {
    "colab": {
      "provenance": []
    },
    "kernelspec": {
      "name": "python3",
      "display_name": "Python 3"
    },
    "language_info": {
      "name": "python"
    }
  },
  "cells": [
    {
      "cell_type": "markdown",
      "source": [
        "# Задание № 1"
      ],
      "metadata": {
        "id": "p5-35n6tJX0Q"
      }
    },
    {
      "cell_type": "code",
      "execution_count": 110,
      "metadata": {
        "id": "nojWH1l67c9T"
      },
      "outputs": [],
      "source": [
        "import pandas as pd\n",
        "from sklearn.metrics import recall_score\n",
        "from sklearn.metrics import roc_auc_score\n",
        "from sklearn.metrics import precision_score\n",
        "from sklearn.linear_model import LogisticRegression"
      ]
    },
    {
      "cell_type": "code",
      "source": [
        "df = pd.read_csv('candy-data.csv')\n",
        "df_test = pd.read_csv('candy-test.csv')"
      ],
      "metadata": {
        "id": "wgJ_Eh4C7jen"
      },
      "execution_count": 111,
      "outputs": []
    },
    {
      "cell_type": "markdown",
      "source": [
        "Тренировочные данные"
      ],
      "metadata": {
        "id": "7cc7AchJI3YW"
      }
    },
    {
      "cell_type": "code",
      "source": [
        "df_train = df[(df.competitorname != 'Dots') & \n",
        "              (df.competitorname != 'Fun Dip') &\n",
        "              (df.competitorname != 'Milky Way Midnight')]\n",
        "x_train = df_train[df_train.columns[1:12]]\n",
        "y_train = df_train.Y"
      ],
      "metadata": {
        "id": "c2XbtotG9p6t"
      },
      "execution_count": 112,
      "outputs": []
    },
    {
      "cell_type": "markdown",
      "source": [
        "Тестовые данные"
      ],
      "metadata": {
        "id": "dp4JMT5cI7ns"
      }
    },
    {
      "cell_type": "code",
      "source": [
        "x_test = df_test[df_test.columns[1:12]]\n",
        "y_test = df_test.Y\n",
        "x_twix = x_test[(df_test.competitorname == 'Twix')]\n",
        "x_trj = x_test[(df_test.competitorname == 'Tootsie Roll Juniors')]"
      ],
      "metadata": {
        "id": "NUsMUiJh_0SX"
      },
      "execution_count": 113,
      "outputs": []
    },
    {
      "cell_type": "markdown",
      "source": [
        "Обучение модели"
      ],
      "metadata": {
        "id": "Br9OkloaJVk6"
      }
    },
    {
      "cell_type": "code",
      "source": [
        "model = LogisticRegression(random_state = 2019, solver = 'lbfgs').fit(x_train, y_train)\n",
        "model.classes_"
      ],
      "metadata": {
        "colab": {
          "base_uri": "https://localhost:8080/"
        },
        "id": "SBxFoMXn98OS",
        "outputId": "2d59ce1b-6b4e-4ee7-f441-f2112fbc73e9"
      },
      "execution_count": 114,
      "outputs": [
        {
          "output_type": "execute_result",
          "data": {
            "text/plain": [
              "array([0, 1])"
            ]
          },
          "metadata": {},
          "execution_count": 114
        }
      ]
    },
    {
      "cell_type": "markdown",
      "source": [
        "**Вероятность отнесения конфеты Twix к классу 1**"
      ],
      "metadata": {
        "id": "NPk4zfBuIb4e"
      }
    },
    {
      "cell_type": "code",
      "source": [
        "round(model.predict_proba(x_twix)[0][1], 3)"
      ],
      "metadata": {
        "colab": {
          "base_uri": "https://localhost:8080/"
        },
        "id": "BrKPbRIGBJ-i",
        "outputId": "08a19e1d-3d84-4273-cc08-813f65085a66"
      },
      "execution_count": 115,
      "outputs": [
        {
          "output_type": "execute_result",
          "data": {
            "text/plain": [
              "0.442"
            ]
          },
          "metadata": {},
          "execution_count": 115
        }
      ]
    },
    {
      "cell_type": "markdown",
      "source": [
        "**Вероятность отнесения конфеты Tootsie Roll Juniors к классу 1**"
      ],
      "metadata": {
        "id": "UxhLwKogIXi7"
      }
    },
    {
      "cell_type": "code",
      "source": [
        "round(model.predict_proba(x_trj)[0][1], 3)"
      ],
      "metadata": {
        "colab": {
          "base_uri": "https://localhost:8080/"
        },
        "id": "bbjhEllJIQNW",
        "outputId": "002f75f9-3a88-41b5-8501-5e7f43881440"
      },
      "execution_count": 134,
      "outputs": [
        {
          "output_type": "execute_result",
          "data": {
            "text/plain": [
              "0.682"
            ]
          },
          "metadata": {},
          "execution_count": 134
        }
      ]
    },
    {
      "cell_type": "markdown",
      "source": [
        "**Значение Recall для тестового набора данных**"
      ],
      "metadata": {
        "id": "3OAOYly-IG5l"
      }
    },
    {
      "cell_type": "code",
      "source": [
        "recall_score(y_test, model.predict(x_test))"
      ],
      "metadata": {
        "colab": {
          "base_uri": "https://localhost:8080/"
        },
        "id": "G-ABI3-nGQpW",
        "outputId": "76a26ae2-c89e-4667-8903-1b194a86d943"
      },
      "execution_count": 117,
      "outputs": [
        {
          "output_type": "execute_result",
          "data": {
            "text/plain": [
              "0.6"
            ]
          },
          "metadata": {},
          "execution_count": 117
        }
      ]
    },
    {
      "cell_type": "markdown",
      "source": [
        "**Значение Precision для тестового набора данных**"
      ],
      "metadata": {
        "id": "PfI5PNtRIBr7"
      }
    },
    {
      "cell_type": "code",
      "source": [
        "precision_score(y_test, model.predict(x_test))"
      ],
      "metadata": {
        "colab": {
          "base_uri": "https://localhost:8080/"
        },
        "id": "qXaPLiLfGUCN",
        "outputId": "d73fda41-1ae9-4e80-ea69-b75f791bd01c"
      },
      "execution_count": 118,
      "outputs": [
        {
          "output_type": "execute_result",
          "data": {
            "text/plain": [
              "0.5"
            ]
          },
          "metadata": {},
          "execution_count": 118
        }
      ]
    },
    {
      "cell_type": "markdown",
      "source": [
        "**Значение AUC для тестового набора данных**"
      ],
      "metadata": {
        "id": "feBOKtB7H8LN"
      }
    },
    {
      "cell_type": "code",
      "source": [
        "round(roc_auc_score(y_test, model.predict_proba(x_test)[:, 1]),3)"
      ],
      "metadata": {
        "colab": {
          "base_uri": "https://localhost:8080/"
        },
        "id": "Py4qOJP1Gd8V",
        "outputId": "4ce5492b-aa8e-4b94-bba3-70b360d46759"
      },
      "execution_count": 119,
      "outputs": [
        {
          "output_type": "execute_result",
          "data": {
            "text/plain": [
              "0.88"
            ]
          },
          "metadata": {},
          "execution_count": 119
        }
      ]
    }
  ]
}