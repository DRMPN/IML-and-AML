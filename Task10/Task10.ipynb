{
  "nbformat": 4,
  "nbformat_minor": 0,
  "metadata": {
    "colab": {
      "provenance": []
    },
    "kernelspec": {
      "name": "python3",
      "display_name": "Python 3"
    },
    "language_info": {
      "name": "python"
    }
  },
  "cells": [
    {
      "cell_type": "markdown",
      "source": [
        "#Задание  \n",
        "По аналогии с седьмым заданием, исходные данные оттуда"
      ],
      "metadata": {
        "id": "U-xtjqvw1mG1"
      }
    },
    {
      "cell_type": "code",
      "execution_count": null,
      "metadata": {
        "id": "sQ_PbyjnTQAr"
      },
      "outputs": [],
      "source": [
        "!pip install --upgrade pip\n",
        "!pip install imutils\n",
        "!pip install opencv-python\n",
        "!pip install --upgrade scikit-learn==0.23.0"
      ]
    },
    {
      "cell_type": "code",
      "source": [
        "import cv2\n",
        "import zipfile\n",
        "import numpy as np\n",
        "import pandas as pd\n",
        "from imutils import paths\n",
        "from sklearn.svm import LinearSVC\n",
        "from sklearn.ensemble import BaggingClassifier\n",
        "from sklearn.ensemble import StackingClassifier\n",
        "from sklearn.tree import DecisionTreeClassifier\n",
        "from sklearn.ensemble import RandomForestClassifier\n",
        "from sklearn.linear_model import LogisticRegression\n",
        "from sklearn.model_selection import cross_val_score\n",
        "from sklearn.model_selection import train_test_split"
      ],
      "metadata": {
        "id": "XpudgifBTopm"
      },
      "execution_count": 46,
      "outputs": []
    },
    {
      "cell_type": "code",
      "source": [
        "with zipfile.ZipFile('train_task.zip', 'r') as zip_ref:\n",
        "    zip_ref.extractall('')"
      ],
      "metadata": {
        "id": "WkFlX6TNUzm9"
      },
      "execution_count": 3,
      "outputs": []
    },
    {
      "cell_type": "code",
      "source": [
        "imagePaths = sorted(list(paths.list_images('train')))"
      ],
      "metadata": {
        "id": "X-aZt63hU2VD"
      },
      "execution_count": 6,
      "outputs": []
    },
    {
      "cell_type": "code",
      "source": [
        "def extract_histogram(image, bins=(8, 8, 8)):\n",
        "    hist = cv2.calcHist([image], [0, 1, 2], None, bins, [0, 256, 0, 256, 0, 256])\n",
        "    cv2.normalize(hist, hist)\n",
        "    return hist.flatten()"
      ],
      "metadata": {
        "id": "qPWiRCi-U8If"
      },
      "execution_count": 7,
      "outputs": []
    },
    {
      "cell_type": "code",
      "source": [
        "X = []\n",
        "y = []\n",
        "for image in imagePaths:\n",
        "  X.append(extract_histogram(cv2.imread(image)))\n",
        "  if 'cat' in image:\n",
        "    y.append(1)\n",
        "  else:\n",
        "    y.append(0)"
      ],
      "metadata": {
        "id": "O3aERsjAU-2h"
      },
      "execution_count": 13,
      "outputs": []
    },
    {
      "cell_type": "code",
      "source": [
        "X = pd.DataFrame(X)\n",
        "X.head()"
      ],
      "metadata": {
        "colab": {
          "base_uri": "https://localhost:8080/",
          "height": 235
        },
        "id": "R64G1THYVBhY",
        "outputId": "62809035-94b6-4e47-f7fb-82b976d8afa2"
      },
      "execution_count": 14,
      "outputs": [
        {
          "output_type": "execute_result",
          "data": {
            "text/plain": [
              "        0         1         2         3         4    5    6    7         8    \\\n",
              "0  0.242645  0.073122  0.000232  0.000000  0.000000  0.0  0.0  0.0  0.000000   \n",
              "1  0.418818  0.126781  0.000085  0.000000  0.000000  0.0  0.0  0.0  0.005085   \n",
              "2  0.356737  0.184168  0.020616  0.001619  0.000717  0.0  0.0  0.0  0.000041   \n",
              "3  0.001266  0.019995  0.011941  0.001583  0.000158  0.0  0.0  0.0  0.000000   \n",
              "4  0.000000  0.000105  0.000000  0.000000  0.000000  0.0  0.0  0.0  0.000000   \n",
              "\n",
              "        9    ...      502       503  504       505     506      507       508  \\\n",
              "0  0.087363  ...  0.00000  0.000000  0.0  0.000000  0.0000  0.00000  0.000000   \n",
              "1  0.076441  ...  0.00000  0.000000  0.0  0.000000  0.0000  0.00000  0.000000   \n",
              "2  0.027440  ...  0.00002  0.000000  0.0  0.000000  0.0000  0.00000  0.000000   \n",
              "3  0.002145  ...  0.01595  0.002233  0.0  0.000000  0.0000  0.00000  0.000000   \n",
              "4  0.000366  ...  0.00000  0.000000  0.0  0.002719  0.7748  0.34338  0.038583   \n",
              "\n",
              "        509       510       511  \n",
              "0  0.000000  0.000000  0.000000  \n",
              "1  0.000000  0.000042  0.000000  \n",
              "2  0.000000  0.000000  0.007726  \n",
              "3  0.000000  0.023354  0.497077  \n",
              "4  0.114442  0.126833  0.008469  \n",
              "\n",
              "[5 rows x 512 columns]"
            ],
            "text/html": [
              "\n",
              "  <div id=\"df-eba95986-18b3-42ae-9fae-38528cd3e2c4\">\n",
              "    <div class=\"colab-df-container\">\n",
              "      <div>\n",
              "<style scoped>\n",
              "    .dataframe tbody tr th:only-of-type {\n",
              "        vertical-align: middle;\n",
              "    }\n",
              "\n",
              "    .dataframe tbody tr th {\n",
              "        vertical-align: top;\n",
              "    }\n",
              "\n",
              "    .dataframe thead th {\n",
              "        text-align: right;\n",
              "    }\n",
              "</style>\n",
              "<table border=\"1\" class=\"dataframe\">\n",
              "  <thead>\n",
              "    <tr style=\"text-align: right;\">\n",
              "      <th></th>\n",
              "      <th>0</th>\n",
              "      <th>1</th>\n",
              "      <th>2</th>\n",
              "      <th>3</th>\n",
              "      <th>4</th>\n",
              "      <th>5</th>\n",
              "      <th>6</th>\n",
              "      <th>7</th>\n",
              "      <th>8</th>\n",
              "      <th>9</th>\n",
              "      <th>...</th>\n",
              "      <th>502</th>\n",
              "      <th>503</th>\n",
              "      <th>504</th>\n",
              "      <th>505</th>\n",
              "      <th>506</th>\n",
              "      <th>507</th>\n",
              "      <th>508</th>\n",
              "      <th>509</th>\n",
              "      <th>510</th>\n",
              "      <th>511</th>\n",
              "    </tr>\n",
              "  </thead>\n",
              "  <tbody>\n",
              "    <tr>\n",
              "      <th>0</th>\n",
              "      <td>0.242645</td>\n",
              "      <td>0.073122</td>\n",
              "      <td>0.000232</td>\n",
              "      <td>0.000000</td>\n",
              "      <td>0.000000</td>\n",
              "      <td>0.0</td>\n",
              "      <td>0.0</td>\n",
              "      <td>0.0</td>\n",
              "      <td>0.000000</td>\n",
              "      <td>0.087363</td>\n",
              "      <td>...</td>\n",
              "      <td>0.00000</td>\n",
              "      <td>0.000000</td>\n",
              "      <td>0.0</td>\n",
              "      <td>0.000000</td>\n",
              "      <td>0.0000</td>\n",
              "      <td>0.00000</td>\n",
              "      <td>0.000000</td>\n",
              "      <td>0.000000</td>\n",
              "      <td>0.000000</td>\n",
              "      <td>0.000000</td>\n",
              "    </tr>\n",
              "    <tr>\n",
              "      <th>1</th>\n",
              "      <td>0.418818</td>\n",
              "      <td>0.126781</td>\n",
              "      <td>0.000085</td>\n",
              "      <td>0.000000</td>\n",
              "      <td>0.000000</td>\n",
              "      <td>0.0</td>\n",
              "      <td>0.0</td>\n",
              "      <td>0.0</td>\n",
              "      <td>0.005085</td>\n",
              "      <td>0.076441</td>\n",
              "      <td>...</td>\n",
              "      <td>0.00000</td>\n",
              "      <td>0.000000</td>\n",
              "      <td>0.0</td>\n",
              "      <td>0.000000</td>\n",
              "      <td>0.0000</td>\n",
              "      <td>0.00000</td>\n",
              "      <td>0.000000</td>\n",
              "      <td>0.000000</td>\n",
              "      <td>0.000042</td>\n",
              "      <td>0.000000</td>\n",
              "    </tr>\n",
              "    <tr>\n",
              "      <th>2</th>\n",
              "      <td>0.356737</td>\n",
              "      <td>0.184168</td>\n",
              "      <td>0.020616</td>\n",
              "      <td>0.001619</td>\n",
              "      <td>0.000717</td>\n",
              "      <td>0.0</td>\n",
              "      <td>0.0</td>\n",
              "      <td>0.0</td>\n",
              "      <td>0.000041</td>\n",
              "      <td>0.027440</td>\n",
              "      <td>...</td>\n",
              "      <td>0.00002</td>\n",
              "      <td>0.000000</td>\n",
              "      <td>0.0</td>\n",
              "      <td>0.000000</td>\n",
              "      <td>0.0000</td>\n",
              "      <td>0.00000</td>\n",
              "      <td>0.000000</td>\n",
              "      <td>0.000000</td>\n",
              "      <td>0.000000</td>\n",
              "      <td>0.007726</td>\n",
              "    </tr>\n",
              "    <tr>\n",
              "      <th>3</th>\n",
              "      <td>0.001266</td>\n",
              "      <td>0.019995</td>\n",
              "      <td>0.011941</td>\n",
              "      <td>0.001583</td>\n",
              "      <td>0.000158</td>\n",
              "      <td>0.0</td>\n",
              "      <td>0.0</td>\n",
              "      <td>0.0</td>\n",
              "      <td>0.000000</td>\n",
              "      <td>0.002145</td>\n",
              "      <td>...</td>\n",
              "      <td>0.01595</td>\n",
              "      <td>0.002233</td>\n",
              "      <td>0.0</td>\n",
              "      <td>0.000000</td>\n",
              "      <td>0.0000</td>\n",
              "      <td>0.00000</td>\n",
              "      <td>0.000000</td>\n",
              "      <td>0.000000</td>\n",
              "      <td>0.023354</td>\n",
              "      <td>0.497077</td>\n",
              "    </tr>\n",
              "    <tr>\n",
              "      <th>4</th>\n",
              "      <td>0.000000</td>\n",
              "      <td>0.000105</td>\n",
              "      <td>0.000000</td>\n",
              "      <td>0.000000</td>\n",
              "      <td>0.000000</td>\n",
              "      <td>0.0</td>\n",
              "      <td>0.0</td>\n",
              "      <td>0.0</td>\n",
              "      <td>0.000000</td>\n",
              "      <td>0.000366</td>\n",
              "      <td>...</td>\n",
              "      <td>0.00000</td>\n",
              "      <td>0.000000</td>\n",
              "      <td>0.0</td>\n",
              "      <td>0.002719</td>\n",
              "      <td>0.7748</td>\n",
              "      <td>0.34338</td>\n",
              "      <td>0.038583</td>\n",
              "      <td>0.114442</td>\n",
              "      <td>0.126833</td>\n",
              "      <td>0.008469</td>\n",
              "    </tr>\n",
              "  </tbody>\n",
              "</table>\n",
              "<p>5 rows × 512 columns</p>\n",
              "</div>\n",
              "      <button class=\"colab-df-convert\" onclick=\"convertToInteractive('df-eba95986-18b3-42ae-9fae-38528cd3e2c4')\"\n",
              "              title=\"Convert this dataframe to an interactive table.\"\n",
              "              style=\"display:none;\">\n",
              "        \n",
              "  <svg xmlns=\"http://www.w3.org/2000/svg\" height=\"24px\"viewBox=\"0 0 24 24\"\n",
              "       width=\"24px\">\n",
              "    <path d=\"M0 0h24v24H0V0z\" fill=\"none\"/>\n",
              "    <path d=\"M18.56 5.44l.94 2.06.94-2.06 2.06-.94-2.06-.94-.94-2.06-.94 2.06-2.06.94zm-11 1L8.5 8.5l.94-2.06 2.06-.94-2.06-.94L8.5 2.5l-.94 2.06-2.06.94zm10 10l.94 2.06.94-2.06 2.06-.94-2.06-.94-.94-2.06-.94 2.06-2.06.94z\"/><path d=\"M17.41 7.96l-1.37-1.37c-.4-.4-.92-.59-1.43-.59-.52 0-1.04.2-1.43.59L10.3 9.45l-7.72 7.72c-.78.78-.78 2.05 0 2.83L4 21.41c.39.39.9.59 1.41.59.51 0 1.02-.2 1.41-.59l7.78-7.78 2.81-2.81c.8-.78.8-2.07 0-2.86zM5.41 20L4 18.59l7.72-7.72 1.47 1.35L5.41 20z\"/>\n",
              "  </svg>\n",
              "      </button>\n",
              "      \n",
              "  <style>\n",
              "    .colab-df-container {\n",
              "      display:flex;\n",
              "      flex-wrap:wrap;\n",
              "      gap: 12px;\n",
              "    }\n",
              "\n",
              "    .colab-df-convert {\n",
              "      background-color: #E8F0FE;\n",
              "      border: none;\n",
              "      border-radius: 50%;\n",
              "      cursor: pointer;\n",
              "      display: none;\n",
              "      fill: #1967D2;\n",
              "      height: 32px;\n",
              "      padding: 0 0 0 0;\n",
              "      width: 32px;\n",
              "    }\n",
              "\n",
              "    .colab-df-convert:hover {\n",
              "      background-color: #E2EBFA;\n",
              "      box-shadow: 0px 1px 2px rgba(60, 64, 67, 0.3), 0px 1px 3px 1px rgba(60, 64, 67, 0.15);\n",
              "      fill: #174EA6;\n",
              "    }\n",
              "\n",
              "    [theme=dark] .colab-df-convert {\n",
              "      background-color: #3B4455;\n",
              "      fill: #D2E3FC;\n",
              "    }\n",
              "\n",
              "    [theme=dark] .colab-df-convert:hover {\n",
              "      background-color: #434B5C;\n",
              "      box-shadow: 0px 1px 3px 1px rgba(0, 0, 0, 0.15);\n",
              "      filter: drop-shadow(0px 1px 2px rgba(0, 0, 0, 0.3));\n",
              "      fill: #FFFFFF;\n",
              "    }\n",
              "  </style>\n",
              "\n",
              "      <script>\n",
              "        const buttonEl =\n",
              "          document.querySelector('#df-eba95986-18b3-42ae-9fae-38528cd3e2c4 button.colab-df-convert');\n",
              "        buttonEl.style.display =\n",
              "          google.colab.kernel.accessAllowed ? 'block' : 'none';\n",
              "\n",
              "        async function convertToInteractive(key) {\n",
              "          const element = document.querySelector('#df-eba95986-18b3-42ae-9fae-38528cd3e2c4');\n",
              "          const dataTable =\n",
              "            await google.colab.kernel.invokeFunction('convertToInteractive',\n",
              "                                                     [key], {});\n",
              "          if (!dataTable) return;\n",
              "\n",
              "          const docLinkHtml = 'Like what you see? Visit the ' +\n",
              "            '<a target=\"_blank\" href=https://colab.research.google.com/notebooks/data_table.ipynb>data table notebook</a>'\n",
              "            + ' to learn more about interactive tables.';\n",
              "          element.innerHTML = '';\n",
              "          dataTable['output_type'] = 'display_data';\n",
              "          await google.colab.output.renderOutput(dataTable, element);\n",
              "          const docLink = document.createElement('div');\n",
              "          docLink.innerHTML = docLinkHtml;\n",
              "          element.appendChild(docLink);\n",
              "        }\n",
              "      </script>\n",
              "    </div>\n",
              "  </div>\n",
              "  "
            ]
          },
          "metadata": {},
          "execution_count": 14
        }
      ]
    },
    {
      "cell_type": "markdown",
      "source": [
        "Классификатор с мягким зазором"
      ],
      "metadata": {
        "id": "fptby4Ff1C4h"
      }
    },
    {
      "cell_type": "code",
      "source": [
        "lsvc = LinearSVC(C = 1.75, random_state = 195)"
      ],
      "metadata": {
        "id": "sYiDrIcxa2at"
      },
      "execution_count": 72,
      "outputs": []
    },
    {
      "cell_type": "markdown",
      "source": [
        "Бэггинг деревьев принятия решений"
      ],
      "metadata": {
        "id": "ykFhG3il0_0F"
      }
    },
    {
      "cell_type": "code",
      "source": [
        "dtc = DecisionTreeClassifier(criterion = 'entropy', min_samples_leaf = 10, max_leaf_nodes = 20, random_state = 195)"
      ],
      "metadata": {
        "id": "CHyskmvBbcQR"
      },
      "execution_count": 73,
      "outputs": []
    },
    {
      "cell_type": "code",
      "source": [
        "bagging_dtc = BaggingClassifier(dtc, n_estimators = 12, random_state = 195)"
      ],
      "metadata": {
        "id": "1cWH6NeTbHCM"
      },
      "execution_count": 74,
      "outputs": []
    },
    {
      "cell_type": "markdown",
      "source": [
        "Случайный лес"
      ],
      "metadata": {
        "id": "afkN5ZrC09Nt"
      }
    },
    {
      "cell_type": "code",
      "source": [
        "rfc = RandomForestClassifier(n_estimators = 12, criterion = 'entropy', min_samples_leaf = 10, max_leaf_nodes = 20, random_state = 195)"
      ],
      "metadata": {
        "id": "X6dluiz8cCRX"
      },
      "execution_count": 75,
      "outputs": []
    },
    {
      "cell_type": "markdown",
      "source": [
        "Логическая регрессия"
      ],
      "metadata": {
        "id": "o6v-m4NZ06nw"
      }
    },
    {
      "cell_type": "code",
      "source": [
        "lr = LogisticRegression(solver='lbfgs', random_state = 195)"
      ],
      "metadata": {
        "id": "404icxuYckpj"
      },
      "execution_count": 76,
      "outputs": []
    },
    {
      "cell_type": "markdown",
      "source": [
        "Метаалгоритм"
      ],
      "metadata": {
        "id": "xR9aA_JE00mI"
      }
    },
    {
      "cell_type": "code",
      "source": [
        "estimators = [('lsvc', lsvc), ('rfc', rfc), ('b_dtc', bagging_dtc)]"
      ],
      "metadata": {
        "id": "feahR9UPiqPV"
      },
      "execution_count": 83,
      "outputs": []
    },
    {
      "cell_type": "code",
      "source": [
        "sc = StackingClassifier(estimators, final_estimator=lr, cv = 2).fit(X, y)\n",
        "sc.classes_"
      ],
      "metadata": {
        "colab": {
          "base_uri": "https://localhost:8080/"
        },
        "id": "adu3NgnAlJEo",
        "outputId": "2949a55b-85e1-4a01-8157-3fdecc8a236c"
      },
      "execution_count": 84,
      "outputs": [
        {
          "output_type": "execute_result",
          "data": {
            "text/plain": [
              "array([0, 1])"
            ]
          },
          "metadata": {},
          "execution_count": 84
        }
      ]
    },
    {
      "cell_type": "markdown",
      "source": [
        "**Доля правильной классификации**"
      ],
      "metadata": {
        "id": "f5fa_0Mc0pTQ"
      }
    },
    {
      "cell_type": "code",
      "source": [
        "sc.score(X, y)"
      ],
      "metadata": {
        "colab": {
          "base_uri": "https://localhost:8080/"
        },
        "id": "oLTRdB4Eu7RS",
        "outputId": "1eb5b0ab-a89c-4c8e-c4d6-c765cbbd2ced"
      },
      "execution_count": 85,
      "outputs": [
        {
          "output_type": "execute_result",
          "data": {
            "text/plain": [
              "0.83"
            ]
          },
          "metadata": {},
          "execution_count": 85
        }
      ]
    },
    {
      "cell_type": "markdown",
      "source": [
        "**Вероятность отнесения изображений к классу 1 с помощью обученного метаалгоритма**"
      ],
      "metadata": {
        "id": "hAM-RbH90vTk"
      }
    },
    {
      "cell_type": "code",
      "source": [
        "round(sc.predict_proba([extract_histogram(cv2.imread('dog.1032.jpg'))])[0, 1], 3)"
      ],
      "metadata": {
        "colab": {
          "base_uri": "https://localhost:8080/"
        },
        "id": "3xTQ6ZvIxwqt",
        "outputId": "a39d2a66-1bed-4d3b-d0cf-d4e1863b6184"
      },
      "execution_count": 80,
      "outputs": [
        {
          "output_type": "execute_result",
          "data": {
            "text/plain": [
              "0.672"
            ]
          },
          "metadata": {},
          "execution_count": 80
        }
      ]
    },
    {
      "cell_type": "code",
      "source": [
        "round(sc.predict_proba([extract_histogram(cv2.imread('cat.1048.jpg'))])[0, 1], 3)"
      ],
      "metadata": {
        "colab": {
          "base_uri": "https://localhost:8080/"
        },
        "id": "hiuAygaWzDMe",
        "outputId": "6051da4e-c252-4aa5-b418-094356d2181c"
      },
      "execution_count": 81,
      "outputs": [
        {
          "output_type": "execute_result",
          "data": {
            "text/plain": [
              "0.381"
            ]
          },
          "metadata": {},
          "execution_count": 81
        }
      ]
    },
    {
      "cell_type": "code",
      "source": [
        "round(sc.predict_proba([extract_histogram(cv2.imread('dog.1024.jpg'))])[0, 1], 3)"
      ],
      "metadata": {
        "colab": {
          "base_uri": "https://localhost:8080/"
        },
        "id": "NVh2OKxwzG-o",
        "outputId": "dd6e13ac-24e8-447c-c6ab-aaa37bf8f9ae"
      },
      "execution_count": 82,
      "outputs": [
        {
          "output_type": "execute_result",
          "data": {
            "text/plain": [
              "0.528"
            ]
          },
          "metadata": {},
          "execution_count": 82
        }
      ]
    },
    {
      "cell_type": "code",
      "source": [
        "round(sc.predict_proba([extract_histogram(cv2.imread('cat.1016.jpg'))])[0, 1], 3)"
      ],
      "metadata": {
        "colab": {
          "base_uri": "https://localhost:8080/"
        },
        "id": "J7YbYR3MzJrK",
        "outputId": "97536366-7924-4299-b880-97b62e3ccf8d"
      },
      "execution_count": 61,
      "outputs": [
        {
          "output_type": "execute_result",
          "data": {
            "text/plain": [
              "0.743"
            ]
          },
          "metadata": {},
          "execution_count": 61
        }
      ]
    }
  ]
}