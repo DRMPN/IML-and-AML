{
  "nbformat": 4,
  "nbformat_minor": 0,
  "metadata": {
    "colab": {
      "provenance": []
    },
    "kernelspec": {
      "name": "python3",
      "display_name": "Python 3"
    },
    "language_info": {
      "name": "python"
    }
  },
  "cells": [
    {
      "cell_type": "markdown",
      "source": [
        "# Задание № 1"
      ],
      "metadata": {
        "id": "vYvq51S8THKv"
      }
    },
    {
      "cell_type": "code",
      "source": [
        "import numpy as np\n",
        "import pandas as pd"
      ],
      "metadata": {
        "id": "-g-HcZlWFPir"
      },
      "execution_count": 191,
      "outputs": []
    },
    {
      "cell_type": "markdown",
      "source": [
        "**Исходные данные**"
      ],
      "metadata": {
        "id": "xG6jp-eITO1r"
      }
    },
    {
      "cell_type": "code",
      "source": [
        "df1 = pd.read_csv('first_table.csv', index_col=0)\n",
        "df2 = pd.read_csv('second_table.csv', index_col=0)\n",
        "sentence = 'Purchase Bill Gift Unlimited Bonus Prize Cash'.split()"
      ],
      "metadata": {
        "id": "hKNaWU7TEp5G"
      },
      "execution_count": 192,
      "outputs": []
    },
    {
      "cell_type": "code",
      "execution_count": 193,
      "metadata": {
        "id": "HYD88RBcEKEn"
      },
      "outputs": [],
      "source": [
        "spam = df1.loc['Letters'].values[0]\n",
        "not_spam = df1.loc['Letters'].values[1]\n",
        "spam_word_count = df1.loc['Words'].values[0]\n",
        "not_spam_word_count = df1.loc['Words'].values[1]"
      ]
    },
    {
      "cell_type": "markdown",
      "source": [
        "**Вероятность, что письмо является спамом/не спамом**"
      ],
      "metadata": {
        "id": "o4zDn0iATVPM"
      }
    },
    {
      "cell_type": "code",
      "source": [
        "is_spam = spam/(spam+not_spam)\n",
        "is_not_spam = not_spam/(spam+not_spam)"
      ],
      "metadata": {
        "id": "ahIyBBOuETJM"
      },
      "execution_count": 194,
      "outputs": []
    },
    {
      "cell_type": "markdown",
      "source": [
        "**Применение сглаживания по Лапасу**"
      ],
      "metadata": {
        "id": "wBE8cuFdU1aG"
      }
    },
    {
      "cell_type": "code",
      "source": [
        "not_in_dic = np.array([word for word in sentence if word not in list(df2.Spam.index)])\n",
        "v = df2.Spam.values.size\n",
        "r = not_in_dic.size"
      ],
      "metadata": {
        "id": "53NWjrD7Kr3q"
      },
      "execution_count": 203,
      "outputs": []
    },
    {
      "cell_type": "code",
      "source": [
        "prob_spam = []\n",
        "for word in sentence:\n",
        "  if word in not_in_dic:\n",
        "    prob_spam.append((1 + 0)/(v + r + spam_word_count))\n",
        "  else:\n",
        "    prob_spam.append((1 + df2.loc[word][0])/(v + r + spam_word_count))\n",
        "prob_spam.append(is_spam)"
      ],
      "metadata": {
        "id": "E05S-mz7K6Wm"
      },
      "execution_count": 210,
      "outputs": []
    },
    {
      "cell_type": "code",
      "source": [
        "prob_not_spam = []\n",
        "for word in sentence:\n",
        "  if word in not_in_dic:\n",
        "    prob_not_spam.append((1 + 0)/(v + r + not_spam_word_count))\n",
        "  else:\n",
        "    prob_not_spam.append((1 + df2.loc[word][1])/(v + r + not_spam_word_count))\n",
        "prob_not_spam.append(is_not_spam)"
      ],
      "metadata": {
        "id": "fIySWnlwMvWx"
      },
      "execution_count": 211,
      "outputs": []
    },
    {
      "cell_type": "code",
      "source": [
        "ln_spam = np.array([np.log(p) for p in prob_spam])\n",
        "ln_not_spam = np.array([np.log(p) for p in prob_not_spam])"
      ],
      "metadata": {
        "id": "5flZLAc9NEWU"
      },
      "execution_count": 212,
      "outputs": []
    },
    {
      "cell_type": "markdown",
      "source": [
        "**Вычисление F(\"спам\") и F(\"не спам\")**"
      ],
      "metadata": {
        "id": "tSR4j7H2UIWR"
      }
    },
    {
      "cell_type": "code",
      "source": [
        "F_spam = ln_spam.sum()\n",
        "F_not_spam = ln_not_spam.sum()"
      ],
      "metadata": {
        "id": "be3iU75HNz2l"
      },
      "execution_count": 213,
      "outputs": []
    },
    {
      "cell_type": "markdown",
      "source": [
        "**Вероятность P(\"спам\"|письмо)**"
      ],
      "metadata": {
        "id": "fSUajnF-URCF"
      }
    },
    {
      "cell_type": "code",
      "source": [
        "P_spam_sentence = 1/(1+np.exp((F_not_spam - F_spam)))"
      ],
      "metadata": {
        "id": "y65skkqYOLCv"
      },
      "execution_count": 214,
      "outputs": []
    },
    {
      "cell_type": "code",
      "source": [
        "print(round(is_spam,3))\n",
        "print(round(F_spam,3))\n",
        "print(round(F_not_spam,3))\n",
        "print(round(P_spam_sentence,3))"
      ],
      "metadata": {
        "colab": {
          "base_uri": "https://localhost:8080/"
        },
        "id": "4btIczRhPn6w",
        "outputId": "1395dc03-acf8-4598-dc69-6ebfbb147164"
      },
      "execution_count": 216,
      "outputs": [
        {
          "output_type": "stream",
          "name": "stdout",
          "text": [
            "0.528\n",
            "-23.565\n",
            "-27.233\n",
            "0.975\n"
          ]
        }
      ]
    }
  ]
}