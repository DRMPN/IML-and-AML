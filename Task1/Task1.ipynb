{
  "nbformat": 4,
  "nbformat_minor": 0,
  "metadata": {
    "colab": {
      "provenance": []
    },
    "kernelspec": {
      "name": "python3",
      "display_name": "Python 3"
    },
    "language_info": {
      "name": "python"
    }
  },
  "cells": [
    {
      "cell_type": "markdown",
      "source": [
        "# Задание"
      ],
      "metadata": {
        "id": "42Juy1CyTdyb"
      }
    },
    {
      "cell_type": "code",
      "execution_count": null,
      "metadata": {
        "id": "NdO_EU7LX78g"
      },
      "outputs": [],
      "source": [
        "import pandas as pd\n",
        "from google.colab import drive"
      ]
    },
    {
      "cell_type": "code",
      "source": [
        "drive.mount('/content/gdrive')"
      ],
      "metadata": {
        "id": "ksyynGlpt5tj"
      },
      "execution_count": null,
      "outputs": []
    },
    {
      "cell_type": "code",
      "source": [
        "df=pd.read_csv('gdrive/My Drive/Colab Files/ITMO_UNIQUE1.csv')"
      ],
      "metadata": {
        "id": "KQNzY8FoY2_p"
      },
      "execution_count": null,
      "outputs": []
    },
    {
      "cell_type": "markdown",
      "source": [
        "**Построение вариационного ряда**"
      ],
      "metadata": {
        "id": "Wisiw6YuTKkT"
      }
    },
    {
      "cell_type": "code",
      "source": [
        "print(df[7])\n",
        "print(df[21])\n",
        "print(df[58])"
      ],
      "metadata": {
        "id": "FzdjD5M2TCNX"
      },
      "execution_count": null,
      "outputs": []
    },
    {
      "cell_type": "markdown",
      "source": [
        "**Определение выборочного среднего**"
      ],
      "metadata": {
        "id": "Hafq2-sDTSLL"
      }
    },
    {
      "cell_type": "code",
      "source": [
        "print(round(df.mean(),2)) # 38490.71"
      ],
      "metadata": {
        "id": "v_b0gQX6Y8oX",
        "colab": {
          "base_uri": "https://localhost:8080/"
        },
        "outputId": "86d3a942-a2e2-4018-cfc0-e01e7aac9a00"
      },
      "execution_count": null,
      "outputs": [
        {
          "output_type": "stream",
          "name": "stdout",
          "text": [
            "salary    38490.71\n",
            "dtype: float64\n"
          ]
        },
        {
          "output_type": "stream",
          "name": "stderr",
          "text": [
            "/usr/local/lib/python3.7/dist-packages/ipykernel_launcher.py:1: FutureWarning: Dropping of nuisance columns in DataFrame reductions (with 'numeric_only=None') is deprecated; in a future version this will raise TypeError.  Select only valid columns before calling the reduction.\n",
            "  \"\"\"Entry point for launching an IPython kernel.\n"
          ]
        }
      ]
    },
    {
      "cell_type": "markdown",
      "source": [
        "**Определение выборочной медианы**"
      ],
      "metadata": {
        "id": "hRxF454fTViN"
      }
    },
    {
      "cell_type": "code",
      "source": [
        "print(df.median()) #32973.0"
      ],
      "metadata": {
        "colab": {
          "base_uri": "https://localhost:8080/"
        },
        "id": "x5QnNDaow19-",
        "outputId": "254e117c-3758-414b-a644-63c21fffee9f"
      },
      "execution_count": null,
      "outputs": [
        {
          "output_type": "stream",
          "name": "stdout",
          "text": [
            "salary    32973.0\n",
            "dtype: float64\n"
          ]
        },
        {
          "output_type": "stream",
          "name": "stderr",
          "text": [
            "/usr/local/lib/python3.7/dist-packages/ipykernel_launcher.py:1: FutureWarning: Dropping of nuisance columns in DataFrame reductions (with 'numeric_only=None') is deprecated; in a future version this will raise TypeError.  Select only valid columns before calling the reduction.\n",
            "  \"\"\"Entry point for launching an IPython kernel.\n"
          ]
        }
      ]
    }
  ]
}
