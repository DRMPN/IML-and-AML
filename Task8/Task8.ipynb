{
  "nbformat": 4,
  "nbformat_minor": 0,
  "metadata": {
    "colab": {
      "provenance": []
    },
    "kernelspec": {
      "name": "python3",
      "display_name": "Python 3"
    },
    "language_info": {
      "name": "python"
    }
  },
  "cells": [
    {
      "cell_type": "markdown",
      "source": [
        "#Задание"
      ],
      "metadata": {
        "id": "PK0RAXcnuYE-"
      }
    },
    {
      "cell_type": "code",
      "execution_count": 38,
      "metadata": {
        "id": "6l8TTviBGRUv"
      },
      "outputs": [],
      "source": [
        "import graphviz\n",
        "import numpy as np\n",
        "import pandas as pd\n",
        "from sklearn.metrics import f1_score\n",
        "from sklearn.tree import export_graphviz\n",
        "from sklearn.tree import DecisionTreeClassifier\n",
        "from sklearn.model_selection import train_test_split"
      ]
    },
    {
      "cell_type": "code",
      "source": [
        "df = pd.read_csv('diabetes.csv')\n",
        "df_train = df[0:600]\n",
        "df_train.head()"
      ],
      "metadata": {
        "colab": {
          "base_uri": "https://localhost:8080/",
          "height": 206
        },
        "id": "Ocb2xJBaGsab",
        "outputId": "5d967b81-c984-4e6b-c328-c08401ce81a9"
      },
      "execution_count": 61,
      "outputs": [
        {
          "output_type": "execute_result",
          "data": {
            "text/plain": [
              "   Pregnancies  Glucose  BloodPressure  SkinThickness  Insulin   BMI  \\\n",
              "0            6      148             72             35        0  33.6   \n",
              "1            1       85             66             29        0  26.6   \n",
              "2            8      183             64              0        0  23.3   \n",
              "3            1       89             66             23       94  28.1   \n",
              "4            0      137             40             35      168  43.1   \n",
              "\n",
              "   DiabetesPedigreeFunction  Age  Outcome  \n",
              "0                     0.627   50        1  \n",
              "1                     0.351   31        0  \n",
              "2                     0.672   32        1  \n",
              "3                     0.167   21        0  \n",
              "4                     2.288   33        1  "
            ],
            "text/html": [
              "\n",
              "  <div id=\"df-56fe598a-1479-4032-b180-8e0ed9387cf4\">\n",
              "    <div class=\"colab-df-container\">\n",
              "      <div>\n",
              "<style scoped>\n",
              "    .dataframe tbody tr th:only-of-type {\n",
              "        vertical-align: middle;\n",
              "    }\n",
              "\n",
              "    .dataframe tbody tr th {\n",
              "        vertical-align: top;\n",
              "    }\n",
              "\n",
              "    .dataframe thead th {\n",
              "        text-align: right;\n",
              "    }\n",
              "</style>\n",
              "<table border=\"1\" class=\"dataframe\">\n",
              "  <thead>\n",
              "    <tr style=\"text-align: right;\">\n",
              "      <th></th>\n",
              "      <th>Pregnancies</th>\n",
              "      <th>Glucose</th>\n",
              "      <th>BloodPressure</th>\n",
              "      <th>SkinThickness</th>\n",
              "      <th>Insulin</th>\n",
              "      <th>BMI</th>\n",
              "      <th>DiabetesPedigreeFunction</th>\n",
              "      <th>Age</th>\n",
              "      <th>Outcome</th>\n",
              "    </tr>\n",
              "  </thead>\n",
              "  <tbody>\n",
              "    <tr>\n",
              "      <th>0</th>\n",
              "      <td>6</td>\n",
              "      <td>148</td>\n",
              "      <td>72</td>\n",
              "      <td>35</td>\n",
              "      <td>0</td>\n",
              "      <td>33.6</td>\n",
              "      <td>0.627</td>\n",
              "      <td>50</td>\n",
              "      <td>1</td>\n",
              "    </tr>\n",
              "    <tr>\n",
              "      <th>1</th>\n",
              "      <td>1</td>\n",
              "      <td>85</td>\n",
              "      <td>66</td>\n",
              "      <td>29</td>\n",
              "      <td>0</td>\n",
              "      <td>26.6</td>\n",
              "      <td>0.351</td>\n",
              "      <td>31</td>\n",
              "      <td>0</td>\n",
              "    </tr>\n",
              "    <tr>\n",
              "      <th>2</th>\n",
              "      <td>8</td>\n",
              "      <td>183</td>\n",
              "      <td>64</td>\n",
              "      <td>0</td>\n",
              "      <td>0</td>\n",
              "      <td>23.3</td>\n",
              "      <td>0.672</td>\n",
              "      <td>32</td>\n",
              "      <td>1</td>\n",
              "    </tr>\n",
              "    <tr>\n",
              "      <th>3</th>\n",
              "      <td>1</td>\n",
              "      <td>89</td>\n",
              "      <td>66</td>\n",
              "      <td>23</td>\n",
              "      <td>94</td>\n",
              "      <td>28.1</td>\n",
              "      <td>0.167</td>\n",
              "      <td>21</td>\n",
              "      <td>0</td>\n",
              "    </tr>\n",
              "    <tr>\n",
              "      <th>4</th>\n",
              "      <td>0</td>\n",
              "      <td>137</td>\n",
              "      <td>40</td>\n",
              "      <td>35</td>\n",
              "      <td>168</td>\n",
              "      <td>43.1</td>\n",
              "      <td>2.288</td>\n",
              "      <td>33</td>\n",
              "      <td>1</td>\n",
              "    </tr>\n",
              "  </tbody>\n",
              "</table>\n",
              "</div>\n",
              "      <button class=\"colab-df-convert\" onclick=\"convertToInteractive('df-56fe598a-1479-4032-b180-8e0ed9387cf4')\"\n",
              "              title=\"Convert this dataframe to an interactive table.\"\n",
              "              style=\"display:none;\">\n",
              "        \n",
              "  <svg xmlns=\"http://www.w3.org/2000/svg\" height=\"24px\"viewBox=\"0 0 24 24\"\n",
              "       width=\"24px\">\n",
              "    <path d=\"M0 0h24v24H0V0z\" fill=\"none\"/>\n",
              "    <path d=\"M18.56 5.44l.94 2.06.94-2.06 2.06-.94-2.06-.94-.94-2.06-.94 2.06-2.06.94zm-11 1L8.5 8.5l.94-2.06 2.06-.94-2.06-.94L8.5 2.5l-.94 2.06-2.06.94zm10 10l.94 2.06.94-2.06 2.06-.94-2.06-.94-.94-2.06-.94 2.06-2.06.94z\"/><path d=\"M17.41 7.96l-1.37-1.37c-.4-.4-.92-.59-1.43-.59-.52 0-1.04.2-1.43.59L10.3 9.45l-7.72 7.72c-.78.78-.78 2.05 0 2.83L4 21.41c.39.39.9.59 1.41.59.51 0 1.02-.2 1.41-.59l7.78-7.78 2.81-2.81c.8-.78.8-2.07 0-2.86zM5.41 20L4 18.59l7.72-7.72 1.47 1.35L5.41 20z\"/>\n",
              "  </svg>\n",
              "      </button>\n",
              "      \n",
              "  <style>\n",
              "    .colab-df-container {\n",
              "      display:flex;\n",
              "      flex-wrap:wrap;\n",
              "      gap: 12px;\n",
              "    }\n",
              "\n",
              "    .colab-df-convert {\n",
              "      background-color: #E8F0FE;\n",
              "      border: none;\n",
              "      border-radius: 50%;\n",
              "      cursor: pointer;\n",
              "      display: none;\n",
              "      fill: #1967D2;\n",
              "      height: 32px;\n",
              "      padding: 0 0 0 0;\n",
              "      width: 32px;\n",
              "    }\n",
              "\n",
              "    .colab-df-convert:hover {\n",
              "      background-color: #E2EBFA;\n",
              "      box-shadow: 0px 1px 2px rgba(60, 64, 67, 0.3), 0px 1px 3px 1px rgba(60, 64, 67, 0.15);\n",
              "      fill: #174EA6;\n",
              "    }\n",
              "\n",
              "    [theme=dark] .colab-df-convert {\n",
              "      background-color: #3B4455;\n",
              "      fill: #D2E3FC;\n",
              "    }\n",
              "\n",
              "    [theme=dark] .colab-df-convert:hover {\n",
              "      background-color: #434B5C;\n",
              "      box-shadow: 0px 1px 3px 1px rgba(0, 0, 0, 0.15);\n",
              "      filter: drop-shadow(0px 1px 2px rgba(0, 0, 0, 0.3));\n",
              "      fill: #FFFFFF;\n",
              "    }\n",
              "  </style>\n",
              "\n",
              "      <script>\n",
              "        const buttonEl =\n",
              "          document.querySelector('#df-56fe598a-1479-4032-b180-8e0ed9387cf4 button.colab-df-convert');\n",
              "        buttonEl.style.display =\n",
              "          google.colab.kernel.accessAllowed ? 'block' : 'none';\n",
              "\n",
              "        async function convertToInteractive(key) {\n",
              "          const element = document.querySelector('#df-56fe598a-1479-4032-b180-8e0ed9387cf4');\n",
              "          const dataTable =\n",
              "            await google.colab.kernel.invokeFunction('convertToInteractive',\n",
              "                                                     [key], {});\n",
              "          if (!dataTable) return;\n",
              "\n",
              "          const docLinkHtml = 'Like what you see? Visit the ' +\n",
              "            '<a target=\"_blank\" href=https://colab.research.google.com/notebooks/data_table.ipynb>data table notebook</a>'\n",
              "            + ' to learn more about interactive tables.';\n",
              "          element.innerHTML = '';\n",
              "          dataTable['output_type'] = 'display_data';\n",
              "          await google.colab.output.renderOutput(dataTable, element);\n",
              "          const docLink = document.createElement('div');\n",
              "          docLink.innerHTML = docLinkHtml;\n",
              "          element.appendChild(docLink);\n",
              "        }\n",
              "      </script>\n",
              "    </div>\n",
              "  </div>\n",
              "  "
            ]
          },
          "metadata": {},
          "execution_count": 61
        }
      ]
    },
    {
      "cell_type": "markdown",
      "source": [
        "**Число строк в получившейся выборке относящихся к классу 0 (пациент не болен диабетом).**"
      ],
      "metadata": {
        "id": "s9X6PrbusqKw"
      }
    },
    {
      "cell_type": "code",
      "source": [
        "np.count_nonzero(df_train.Outcome == 0)"
      ],
      "metadata": {
        "colab": {
          "base_uri": "https://localhost:8080/"
        },
        "id": "8ofOhKIYHoYa",
        "outputId": "12494ddf-dc60-4398-bc4e-005252d985ee"
      },
      "execution_count": 40,
      "outputs": [
        {
          "output_type": "execute_result",
          "data": {
            "text/plain": [
              "392"
            ]
          },
          "metadata": {},
          "execution_count": 40
        }
      ]
    },
    {
      "cell_type": "code",
      "source": [
        "X = df_train[df_train.columns[0:8]]\n",
        "y = df_train.Outcome"
      ],
      "metadata": {
        "id": "8-yUFt72HDdB"
      },
      "execution_count": 80,
      "outputs": []
    },
    {
      "cell_type": "markdown",
      "source": [
        "Разделение выборки"
      ],
      "metadata": {
        "id": "AvlfcAdpsuxh"
      }
    },
    {
      "cell_type": "code",
      "source": [
        "X_train, X_test, y_train, y_test = train_test_split(X, y, test_size = 0.2, shuffle = False)"
      ],
      "metadata": {
        "id": "M6sjs21wI442"
      },
      "execution_count": 113,
      "outputs": []
    },
    {
      "cell_type": "markdown",
      "source": [
        "Обучение модели"
      ],
      "metadata": {
        "id": "MI9Ydt0-syb3"
      }
    },
    {
      "cell_type": "code",
      "source": [
        "model = DecisionTreeClassifier(criterion='entropy', max_leaf_nodes = 5, min_samples_leaf = 5, random_state = 2020).fit(X_train, y_train)"
      ],
      "metadata": {
        "id": "33UJvnuvJlY3"
      },
      "execution_count": 114,
      "outputs": []
    },
    {
      "cell_type": "markdown",
      "source": [
        "**Получившееся дерево решений**"
      ],
      "metadata": {
        "id": "dzC3L4O0s1-1"
      }
    },
    {
      "cell_type": "code",
      "source": [
        "columns = list(X_train.columns)\n",
        "export_graphviz(model, out_file='tree.dot', \n",
        "                feature_names=columns,\n",
        "                class_names=['0', '1'],\n",
        "                rounded = True, proportion = False, \n",
        "                precision = 2, filled = True, label='all')\n",
        "\n",
        "with open('tree.dot') as f:\n",
        "    dot_graph = f.read()"
      ],
      "metadata": {
        "id": "8mf2AuOfLyd7"
      },
      "execution_count": 115,
      "outputs": []
    },
    {
      "cell_type": "code",
      "source": [
        "graphviz.Source(dot_graph)"
      ],
      "metadata": {
        "colab": {
          "base_uri": "https://localhost:8080/",
          "height": 757
        },
        "id": "K3_8T2kzL6T4",
        "outputId": "e6b05caa-eb46-40ba-fc37-879faec2ed23"
      },
      "execution_count": 116,
      "outputs": [
        {
          "output_type": "execute_result",
          "data": {
            "text/plain": [
              "<graphviz.files.Source at 0x7f9e25494190>"
            ],
            "image/svg+xml": "<?xml version=\"1.0\" encoding=\"UTF-8\" standalone=\"no\"?>\n<!DOCTYPE svg PUBLIC \"-//W3C//DTD SVG 1.1//EN\"\n \"http://www.w3.org/Graphics/SVG/1.1/DTD/svg11.dtd\">\n<!-- Generated by graphviz version 2.40.1 (20161225.0304)\n -->\n<!-- Title: Tree Pages: 1 -->\n<svg width=\"398pt\" height=\"552pt\"\n viewBox=\"0.00 0.00 398.00 552.00\" xmlns=\"http://www.w3.org/2000/svg\" xmlns:xlink=\"http://www.w3.org/1999/xlink\">\n<g id=\"graph0\" class=\"graph\" transform=\"scale(1 1) rotate(0) translate(4 548)\">\n<title>Tree</title>\n<polygon fill=\"#ffffff\" stroke=\"transparent\" points=\"-4,4 -4,-548 394,-548 394,4 -4,4\"/>\n<!-- 0 -->\n<g id=\"node1\" class=\"node\">\n<title>0</title>\n<path fill=\"#f4cbad\" stroke=\"#000000\" d=\"M251,-544C251,-544 143,-544 143,-544 137,-544 131,-538 131,-532 131,-532 131,-473 131,-473 131,-467 137,-461 143,-461 143,-461 251,-461 251,-461 257,-461 263,-467 263,-473 263,-473 263,-532 263,-532 263,-538 257,-544 251,-544\"/>\n<text text-anchor=\"middle\" x=\"197\" y=\"-528.8\" font-family=\"Helvetica,sans-Serif\" font-size=\"14.00\" fill=\"#000000\">Glucose &lt;= 154.5</text>\n<text text-anchor=\"middle\" x=\"197\" y=\"-513.8\" font-family=\"Helvetica,sans-Serif\" font-size=\"14.00\" fill=\"#000000\">entropy = 0.95</text>\n<text text-anchor=\"middle\" x=\"197\" y=\"-498.8\" font-family=\"Helvetica,sans-Serif\" font-size=\"14.00\" fill=\"#000000\">samples = 480</text>\n<text text-anchor=\"middle\" x=\"197\" y=\"-483.8\" font-family=\"Helvetica,sans-Serif\" font-size=\"14.00\" fill=\"#000000\">value = [303, 177]</text>\n<text text-anchor=\"middle\" x=\"197\" y=\"-468.8\" font-family=\"Helvetica,sans-Serif\" font-size=\"14.00\" fill=\"#000000\">class = 0</text>\n</g>\n<!-- 1 -->\n<g id=\"node2\" class=\"node\">\n<title>1</title>\n<path fill=\"#efb387\" stroke=\"#000000\" d=\"M180,-425C180,-425 72,-425 72,-425 66,-425 60,-419 60,-413 60,-413 60,-354 60,-354 60,-348 66,-342 72,-342 72,-342 180,-342 180,-342 186,-342 192,-348 192,-354 192,-354 192,-413 192,-413 192,-419 186,-425 180,-425\"/>\n<text text-anchor=\"middle\" x=\"126\" y=\"-409.8\" font-family=\"Helvetica,sans-Serif\" font-size=\"14.00\" fill=\"#000000\">BMI &lt;= 26.3</text>\n<text text-anchor=\"middle\" x=\"126\" y=\"-394.8\" font-family=\"Helvetica,sans-Serif\" font-size=\"14.00\" fill=\"#000000\">entropy = 0.86</text>\n<text text-anchor=\"middle\" x=\"126\" y=\"-379.8\" font-family=\"Helvetica,sans-Serif\" font-size=\"14.00\" fill=\"#000000\">samples = 404</text>\n<text text-anchor=\"middle\" x=\"126\" y=\"-364.8\" font-family=\"Helvetica,sans-Serif\" font-size=\"14.00\" fill=\"#000000\">value = [290, 114]</text>\n<text text-anchor=\"middle\" x=\"126\" y=\"-349.8\" font-family=\"Helvetica,sans-Serif\" font-size=\"14.00\" fill=\"#000000\">class = 0</text>\n</g>\n<!-- 0&#45;&gt;1 -->\n<g id=\"edge1\" class=\"edge\">\n<title>0&#45;&gt;1</title>\n<path fill=\"none\" stroke=\"#000000\" d=\"M172.1676,-460.8796C167.0091,-452.2335 161.5192,-443.0322 156.1924,-434.1042\"/>\n<polygon fill=\"#000000\" stroke=\"#000000\" points=\"159.0678,-432.0924 150.9383,-425.2981 153.0564,-435.679 159.0678,-432.0924\"/>\n<text text-anchor=\"middle\" x=\"144.8149\" y=\"-445.8366\" font-family=\"Helvetica,sans-Serif\" font-size=\"14.00\" fill=\"#000000\">True</text>\n</g>\n<!-- 2 -->\n<g id=\"node9\" class=\"node\">\n<title>2</title>\n<path fill=\"#62b1ea\" stroke=\"#000000\" d=\"M314,-417.5C314,-417.5 222,-417.5 222,-417.5 216,-417.5 210,-411.5 210,-405.5 210,-405.5 210,-361.5 210,-361.5 210,-355.5 216,-349.5 222,-349.5 222,-349.5 314,-349.5 314,-349.5 320,-349.5 326,-355.5 326,-361.5 326,-361.5 326,-405.5 326,-405.5 326,-411.5 320,-417.5 314,-417.5\"/>\n<text text-anchor=\"middle\" x=\"268\" y=\"-402.3\" font-family=\"Helvetica,sans-Serif\" font-size=\"14.00\" fill=\"#000000\">entropy = 0.66</text>\n<text text-anchor=\"middle\" x=\"268\" y=\"-387.3\" font-family=\"Helvetica,sans-Serif\" font-size=\"14.00\" fill=\"#000000\">samples = 76</text>\n<text text-anchor=\"middle\" x=\"268\" y=\"-372.3\" font-family=\"Helvetica,sans-Serif\" font-size=\"14.00\" fill=\"#000000\">value = [13, 63]</text>\n<text text-anchor=\"middle\" x=\"268\" y=\"-357.3\" font-family=\"Helvetica,sans-Serif\" font-size=\"14.00\" fill=\"#000000\">class = 1</text>\n</g>\n<!-- 0&#45;&gt;2 -->\n<g id=\"edge8\" class=\"edge\">\n<title>0&#45;&gt;2</title>\n<path fill=\"none\" stroke=\"#000000\" d=\"M221.8324,-460.8796C228.4587,-449.7735 235.6316,-437.7513 242.3033,-426.5691\"/>\n<polygon fill=\"#000000\" stroke=\"#000000\" points=\"245.4083,-428.1959 247.5264,-417.8149 239.3969,-424.6093 245.4083,-428.1959\"/>\n<text text-anchor=\"middle\" x=\"253.6498\" y=\"-438.3534\" font-family=\"Helvetica,sans-Serif\" font-size=\"14.00\" fill=\"#000000\">False</text>\n</g>\n<!-- 3 -->\n<g id=\"node3\" class=\"node\">\n<title>3</title>\n<path fill=\"#e68641\" stroke=\"#000000\" d=\"M100,-298.5C100,-298.5 12,-298.5 12,-298.5 6,-298.5 0,-292.5 0,-286.5 0,-286.5 0,-242.5 0,-242.5 0,-236.5 6,-230.5 12,-230.5 12,-230.5 100,-230.5 100,-230.5 106,-230.5 112,-236.5 112,-242.5 112,-242.5 112,-286.5 112,-286.5 112,-292.5 106,-298.5 100,-298.5\"/>\n<text text-anchor=\"middle\" x=\"56\" y=\"-283.3\" font-family=\"Helvetica,sans-Serif\" font-size=\"14.00\" fill=\"#000000\">entropy = 0.24</text>\n<text text-anchor=\"middle\" x=\"56\" y=\"-268.3\" font-family=\"Helvetica,sans-Serif\" font-size=\"14.00\" fill=\"#000000\">samples = 100</text>\n<text text-anchor=\"middle\" x=\"56\" y=\"-253.3\" font-family=\"Helvetica,sans-Serif\" font-size=\"14.00\" fill=\"#000000\">value = [96, 4]</text>\n<text text-anchor=\"middle\" x=\"56\" y=\"-238.3\" font-family=\"Helvetica,sans-Serif\" font-size=\"14.00\" fill=\"#000000\">class = 0</text>\n</g>\n<!-- 1&#45;&gt;3 -->\n<g id=\"edge2\" class=\"edge\">\n<title>1&#45;&gt;3</title>\n<path fill=\"none\" stroke=\"#000000\" d=\"M101.5174,-341.8796C94.9844,-330.7735 87.9125,-318.7513 81.3348,-307.5691\"/>\n<polygon fill=\"#000000\" stroke=\"#000000\" points=\"84.2723,-305.6597 76.1853,-298.8149 78.2387,-309.2089 84.2723,-305.6597\"/>\n</g>\n<!-- 4 -->\n<g id=\"node4\" class=\"node\">\n<title>4</title>\n<path fill=\"#f4c8a9\" stroke=\"#000000\" d=\"M250,-306C250,-306 142,-306 142,-306 136,-306 130,-300 130,-294 130,-294 130,-235 130,-235 130,-229 136,-223 142,-223 142,-223 250,-223 250,-223 256,-223 262,-229 262,-235 262,-235 262,-294 262,-294 262,-300 256,-306 250,-306\"/>\n<text text-anchor=\"middle\" x=\"196\" y=\"-290.8\" font-family=\"Helvetica,sans-Serif\" font-size=\"14.00\" fill=\"#000000\">Glucose &lt;= 99.5</text>\n<text text-anchor=\"middle\" x=\"196\" y=\"-275.8\" font-family=\"Helvetica,sans-Serif\" font-size=\"14.00\" fill=\"#000000\">entropy = 0.94</text>\n<text text-anchor=\"middle\" x=\"196\" y=\"-260.8\" font-family=\"Helvetica,sans-Serif\" font-size=\"14.00\" fill=\"#000000\">samples = 304</text>\n<text text-anchor=\"middle\" x=\"196\" y=\"-245.8\" font-family=\"Helvetica,sans-Serif\" font-size=\"14.00\" fill=\"#000000\">value = [194, 110]</text>\n<text text-anchor=\"middle\" x=\"196\" y=\"-230.8\" font-family=\"Helvetica,sans-Serif\" font-size=\"14.00\" fill=\"#000000\">class = 0</text>\n</g>\n<!-- 1&#45;&gt;4 -->\n<g id=\"edge3\" class=\"edge\">\n<title>1&#45;&gt;4</title>\n<path fill=\"none\" stroke=\"#000000\" d=\"M150.4826,-341.8796C155.5685,-333.2335 160.9811,-324.0322 166.2328,-315.1042\"/>\n<polygon fill=\"#000000\" stroke=\"#000000\" points=\"169.3594,-316.692 171.4129,-306.2981 163.3259,-313.1428 169.3594,-316.692\"/>\n</g>\n<!-- 5 -->\n<g id=\"node5\" class=\"node\">\n<title>5</title>\n<path fill=\"#e89254\" stroke=\"#000000\" d=\"M169,-179.5C169,-179.5 83,-179.5 83,-179.5 77,-179.5 71,-173.5 71,-167.5 71,-167.5 71,-123.5 71,-123.5 71,-117.5 77,-111.5 83,-111.5 83,-111.5 169,-111.5 169,-111.5 175,-111.5 181,-117.5 181,-123.5 181,-123.5 181,-167.5 181,-167.5 181,-173.5 175,-179.5 169,-179.5\"/>\n<text text-anchor=\"middle\" x=\"126\" y=\"-164.3\" font-family=\"Helvetica,sans-Serif\" font-size=\"14.00\" fill=\"#000000\">entropy = 0.52</text>\n<text text-anchor=\"middle\" x=\"126\" y=\"-149.3\" font-family=\"Helvetica,sans-Serif\" font-size=\"14.00\" fill=\"#000000\">samples = 76</text>\n<text text-anchor=\"middle\" x=\"126\" y=\"-134.3\" font-family=\"Helvetica,sans-Serif\" font-size=\"14.00\" fill=\"#000000\">value = [67, 9]</text>\n<text text-anchor=\"middle\" x=\"126\" y=\"-119.3\" font-family=\"Helvetica,sans-Serif\" font-size=\"14.00\" fill=\"#000000\">class = 0</text>\n</g>\n<!-- 4&#45;&gt;5 -->\n<g id=\"edge4\" class=\"edge\">\n<title>4&#45;&gt;5</title>\n<path fill=\"none\" stroke=\"#000000\" d=\"M171.5174,-222.8796C164.9844,-211.7735 157.9125,-199.7513 151.3348,-188.5691\"/>\n<polygon fill=\"#000000\" stroke=\"#000000\" points=\"154.2723,-186.6597 146.1853,-179.8149 148.2387,-190.2089 154.2723,-186.6597\"/>\n</g>\n<!-- 6 -->\n<g id=\"node6\" class=\"node\">\n<title>6</title>\n<path fill=\"#fae5d6\" stroke=\"#000000\" d=\"M319,-187C319,-187 211,-187 211,-187 205,-187 199,-181 199,-175 199,-175 199,-116 199,-116 199,-110 205,-104 211,-104 211,-104 319,-104 319,-104 325,-104 331,-110 331,-116 331,-116 331,-175 331,-175 331,-181 325,-187 319,-187\"/>\n<text text-anchor=\"middle\" x=\"265\" y=\"-171.8\" font-family=\"Helvetica,sans-Serif\" font-size=\"14.00\" fill=\"#000000\">Age &lt;= 28.5</text>\n<text text-anchor=\"middle\" x=\"265\" y=\"-156.8\" font-family=\"Helvetica,sans-Serif\" font-size=\"14.00\" fill=\"#000000\">entropy = 0.99</text>\n<text text-anchor=\"middle\" x=\"265\" y=\"-141.8\" font-family=\"Helvetica,sans-Serif\" font-size=\"14.00\" fill=\"#000000\">samples = 228</text>\n<text text-anchor=\"middle\" x=\"265\" y=\"-126.8\" font-family=\"Helvetica,sans-Serif\" font-size=\"14.00\" fill=\"#000000\">value = [127, 101]</text>\n<text text-anchor=\"middle\" x=\"265\" y=\"-111.8\" font-family=\"Helvetica,sans-Serif\" font-size=\"14.00\" fill=\"#000000\">class = 0</text>\n</g>\n<!-- 4&#45;&gt;6 -->\n<g id=\"edge5\" class=\"edge\">\n<title>4&#45;&gt;6</title>\n<path fill=\"none\" stroke=\"#000000\" d=\"M220.1329,-222.8796C225.1461,-214.2335 230.4813,-205.0322 235.6581,-196.1042\"/>\n<polygon fill=\"#000000\" stroke=\"#000000\" points=\"238.7758,-197.7047 240.7641,-187.2981 232.7202,-194.1934 238.7758,-197.7047\"/>\n</g>\n<!-- 7 -->\n<g id=\"node7\" class=\"node\">\n<title>7</title>\n<path fill=\"#f0b78e\" stroke=\"#000000\" d=\"M244,-68C244,-68 152,-68 152,-68 146,-68 140,-62 140,-56 140,-56 140,-12 140,-12 140,-6 146,0 152,0 152,0 244,0 244,0 250,0 256,-6 256,-12 256,-12 256,-56 256,-56 256,-62 250,-68 244,-68\"/>\n<text text-anchor=\"middle\" x=\"198\" y=\"-52.8\" font-family=\"Helvetica,sans-Serif\" font-size=\"14.00\" fill=\"#000000\">entropy = 0.88</text>\n<text text-anchor=\"middle\" x=\"198\" y=\"-37.8\" font-family=\"Helvetica,sans-Serif\" font-size=\"14.00\" fill=\"#000000\">samples = 90</text>\n<text text-anchor=\"middle\" x=\"198\" y=\"-22.8\" font-family=\"Helvetica,sans-Serif\" font-size=\"14.00\" fill=\"#000000\">value = [63, 27]</text>\n<text text-anchor=\"middle\" x=\"198\" y=\"-7.8\" font-family=\"Helvetica,sans-Serif\" font-size=\"14.00\" fill=\"#000000\">class = 0</text>\n</g>\n<!-- 6&#45;&gt;7 -->\n<g id=\"edge6\" class=\"edge\">\n<title>6&#45;&gt;7</title>\n<path fill=\"none\" stroke=\"#000000\" d=\"M240.0517,-103.9815C234.7499,-95.1585 229.1419,-85.8258 223.8089,-76.9506\"/>\n<polygon fill=\"#000000\" stroke=\"#000000\" points=\"226.7396,-75.0325 218.5889,-68.2637 220.7395,-78.638 226.7396,-75.0325\"/>\n</g>\n<!-- 8 -->\n<g id=\"node8\" class=\"node\">\n<title>8</title>\n<path fill=\"#e4f2fb\" stroke=\"#000000\" d=\"M378,-68C378,-68 286,-68 286,-68 280,-68 274,-62 274,-56 274,-56 274,-12 274,-12 274,-6 280,0 286,0 286,0 378,0 378,0 384,0 390,-6 390,-12 390,-12 390,-56 390,-56 390,-62 384,-68 378,-68\"/>\n<text text-anchor=\"middle\" x=\"332\" y=\"-52.8\" font-family=\"Helvetica,sans-Serif\" font-size=\"14.00\" fill=\"#000000\">entropy = 1.0</text>\n<text text-anchor=\"middle\" x=\"332\" y=\"-37.8\" font-family=\"Helvetica,sans-Serif\" font-size=\"14.00\" fill=\"#000000\">samples = 138</text>\n<text text-anchor=\"middle\" x=\"332\" y=\"-22.8\" font-family=\"Helvetica,sans-Serif\" font-size=\"14.00\" fill=\"#000000\">value = [64, 74]</text>\n<text text-anchor=\"middle\" x=\"332\" y=\"-7.8\" font-family=\"Helvetica,sans-Serif\" font-size=\"14.00\" fill=\"#000000\">class = 1</text>\n</g>\n<!-- 6&#45;&gt;8 -->\n<g id=\"edge7\" class=\"edge\">\n<title>6&#45;&gt;8</title>\n<path fill=\"none\" stroke=\"#000000\" d=\"M289.9483,-103.9815C295.2501,-95.1585 300.8581,-85.8258 306.1911,-76.9506\"/>\n<polygon fill=\"#000000\" stroke=\"#000000\" points=\"309.2605,-78.638 311.4111,-68.2637 303.2604,-75.0325 309.2605,-78.638\"/>\n</g>\n</g>\n</svg>\n"
          },
          "metadata": {},
          "execution_count": 116
        }
      ]
    },
    {
      "cell_type": "markdown",
      "source": [
        "**Глубина дерева**"
      ],
      "metadata": {
        "id": "-cIpQdMWs9zl"
      }
    },
    {
      "cell_type": "code",
      "source": [
        "model.get_depth()"
      ],
      "metadata": {
        "colab": {
          "base_uri": "https://localhost:8080/"
        },
        "id": "vFFqDRqlPeTE",
        "outputId": "6ff64c11-e9e2-4ced-8fac-c70828849415"
      },
      "execution_count": 117,
      "outputs": [
        {
          "output_type": "execute_result",
          "data": {
            "text/plain": [
              "4"
            ]
          },
          "metadata": {},
          "execution_count": 117
        }
      ]
    },
    {
      "cell_type": "markdown",
      "source": [
        "**Предиктор, по которому выполнено разделение на последнем уровне дерева принятия решений**  \n",
        "Age"
      ],
      "metadata": {
        "id": "1BYpJRhHtDa3"
      }
    },
    {
      "cell_type": "markdown",
      "source": [
        "**Pначение разделения для указанного предиктора с точностью до сотых**  \n",
        "28.5"
      ],
      "metadata": {
        "id": "C7Z3s1IwtL1Y"
      }
    },
    {
      "cell_type": "markdown",
      "source": [
        "**Доля правильных ответов**"
      ],
      "metadata": {
        "id": "pu6igXrotpOu"
      }
    },
    {
      "cell_type": "code",
      "source": [
        "round(model.score(X_test, y_test), 2)"
      ],
      "metadata": {
        "colab": {
          "base_uri": "https://localhost:8080/"
        },
        "id": "7dcRfZ1gO_dY",
        "outputId": "debe6cad-fd11-461f-ce3e-17f76c4f03ed"
      },
      "execution_count": 118,
      "outputs": [
        {
          "output_type": "execute_result",
          "data": {
            "text/plain": [
              "0.79"
            ]
          },
          "metadata": {},
          "execution_count": 118
        }
      ]
    },
    {
      "cell_type": "markdown",
      "source": [
        "**Среднее значение метрики F1**"
      ],
      "metadata": {
        "id": "NVPfsDkVtu8J"
      }
    },
    {
      "cell_type": "code",
      "source": [
        "round(f1_score(y_test, model.predict(X_test), average='macro'), 2)"
      ],
      "metadata": {
        "colab": {
          "base_uri": "https://localhost:8080/"
        },
        "id": "vu0zzxJDP9Yx",
        "outputId": "75c8c0f4-7eee-4a25-90d5-21191bc62e7b"
      },
      "execution_count": 120,
      "outputs": [
        {
          "output_type": "execute_result",
          "data": {
            "text/plain": [
              "0.75"
            ]
          },
          "metadata": {},
          "execution_count": 120
        }
      ]
    },
    {
      "cell_type": "markdown",
      "source": [
        "**Предсказание для пациентов 746, 725, 719, 721 (указаны номера строк, нумерация с нуля) из начального набора данных**"
      ],
      "metadata": {
        "id": "azHbqXYct0VX"
      }
    },
    {
      "cell_type": "code",
      "source": [
        "x_746 = df.iloc[[746], 0:8]\n",
        "x_725 = df.iloc[[725], 0:8]\n",
        "x_719 = df.iloc[[719], 0:8]\n",
        "x_721 = df.iloc[[721], 0:8]"
      ],
      "metadata": {
        "id": "zg7f0eKaenXt"
      },
      "execution_count": 166,
      "outputs": []
    },
    {
      "cell_type": "code",
      "source": [
        "model.predict(x_746)"
      ],
      "metadata": {
        "colab": {
          "base_uri": "https://localhost:8080/"
        },
        "id": "Vd9o5QC9qRFE",
        "outputId": "59f0f30c-d4b5-4621-ef1b-e7fec16c0ded"
      },
      "execution_count": 161,
      "outputs": [
        {
          "output_type": "execute_result",
          "data": {
            "text/plain": [
              "array([0])"
            ]
          },
          "metadata": {},
          "execution_count": 161
        }
      ]
    },
    {
      "cell_type": "code",
      "source": [
        "model.predict(x_725)"
      ],
      "metadata": {
        "colab": {
          "base_uri": "https://localhost:8080/"
        },
        "id": "_UVxNaC1gH3p",
        "outputId": "12296786-a1a9-4675-faa9-53a63e236639"
      },
      "execution_count": 163,
      "outputs": [
        {
          "output_type": "execute_result",
          "data": {
            "text/plain": [
              "array([1])"
            ]
          },
          "metadata": {},
          "execution_count": 163
        }
      ]
    },
    {
      "cell_type": "code",
      "source": [
        "model.predict(x_719)"
      ],
      "metadata": {
        "colab": {
          "base_uri": "https://localhost:8080/"
        },
        "id": "DRjkSbRpgNAR",
        "outputId": "22441736-1f19-4e54-b3ef-494b152a3b88"
      },
      "execution_count": 165,
      "outputs": [
        {
          "output_type": "execute_result",
          "data": {
            "text/plain": [
              "array([0])"
            ]
          },
          "metadata": {},
          "execution_count": 165
        }
      ]
    },
    {
      "cell_type": "code",
      "source": [
        "model.predict(x_721)"
      ],
      "metadata": {
        "colab": {
          "base_uri": "https://localhost:8080/"
        },
        "id": "mZCwK7gjgP_G",
        "outputId": "1ef22477-c437-4b57-a6a8-c5acbbfe33a7"
      },
      "execution_count": 167,
      "outputs": [
        {
          "output_type": "execute_result",
          "data": {
            "text/plain": [
              "array([0])"
            ]
          },
          "metadata": {},
          "execution_count": 167
        }
      ]
    }
  ]
}